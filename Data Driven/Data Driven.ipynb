{
 "cells": [
  {
   "cell_type": "code",
   "execution_count": 1,
   "metadata": {},
   "outputs": [],
   "source": [
    "import pandas as pd"
   ]
  },
  {
   "cell_type": "code",
   "execution_count": 2,
   "metadata": {},
   "outputs": [],
   "source": [
    "receipts_url = 'https://docs.google.com/spreadsheets/d/' + '1qayqML1zCKdmtzutkcy9LWvE6xFRm6TGBEVkHHJKIuE' + '/export?format=xlsx'\n",
    "payroll_url = 'https://docs.google.com/spreadsheets/d/' + '1c_WihqTZCQvNgxzmd-OwhR9i5diwtfxXVLyMn8R-Lp4' + '/export?format=xlsx'\n",
    "expenses_url = 'https://docs.google.com/spreadsheets/d/' + '10OGbaywwMIqKgnPGy8VDvpBVtjyqln47iYa2lFhI9Mw' + '/export?format=xlsx'\n",
    "marketing_url = 'https://docs.google.com/spreadsheets/d/' + '1AZOIThOV4P-0eYDge53ZwumVkfkHoYPWxst3k3Bv87c' + '/export?format=xlsx'\n",
    "customer_url = 'https://docs.google.com/spreadsheets/d/' + '1by8tPHwOnq3uKYK2E7sA9VBUYoPM4p1Rnrm_Ss9cyHI' + '/export?format=xlsx'\n",
    "receipts_history = pd.read_excel(receipts_url, sheet_name='Sheet1')\n",
    "payroll = pd.read_excel(payroll_url, sheet_name='Sheet1')\n",
    "monthly_expenses = pd.read_excel(expenses_url, sheet_name='Sheet1')\n",
    "daily_marketing_spendings = pd.read_excel(marketing_url, sheet_name='Sheet1')\n",
    "customer_lifespan = pd.read_excel(customer_url, sheet_name='Sheet1')"
   ]
  },
  {
   "cell_type": "code",
   "execution_count": 3,
   "metadata": {},
   "outputs": [],
   "source": [
    "con1 = monthly_expenses['month'].dt.month == monthly_expenses['month'].dt.month.max()\n",
    "con2 = monthly_expenses['item'] == 'Salesforce'\n",
    "last_expenses = monthly_expenses[con1 & con2]\n",
    "last_total_expenses = last_expenses['amount'].sum()"
   ]
  },
  {
   "cell_type": "code",
   "execution_count": 4,
   "metadata": {},
   "outputs": [],
   "source": [
    "con1 = payroll['month'].dt.month == payroll['month'].dt.month.max()\n",
    "con2 = payroll['department'].isin(['Sales', 'Marketing'])\n",
    "last_payroll = payroll[con1 & con2]\n",
    "last_total_payroll = last_payroll['paid'].sum()"
   ]
  },
  {
   "cell_type": "code",
   "execution_count": 5,
   "metadata": {},
   "outputs": [],
   "source": [
    "last_marketing = daily_marketing_spendings[daily_marketing_spendings['date'].dt.month == daily_marketing_spendings['date'].dt.month.max()]\n",
    "last_total_marketing = last_marketing['spending'].sum()"
   ]
  },
  {
   "cell_type": "code",
   "execution_count": 6,
   "metadata": {},
   "outputs": [],
   "source": [
    "con1 = receipts_history['date'].dt.month == receipts_history['date'].dt.month.max()\n",
    "con2 = receipts_history['new_customer'] == 1\n",
    "last_new_customer = receipts_history[con1 & con2]\n",
    "last_new_customer_count = last_new_customer['customer_id'].count()"
   ]
  },
  {
   "cell_type": "code",
   "execution_count": 7,
   "metadata": {},
   "outputs": [
    {
     "data": {
      "text/plain": [
       "1213.968253968254"
      ]
     },
     "execution_count": 7,
     "metadata": {},
     "output_type": "execute_result"
    }
   ],
   "source": [
    "CAC = (last_total_expenses + last_total_payroll + last_total_marketing) / last_new_customer_count\n",
    "CAC"
   ]
  },
  {
   "cell_type": "code",
   "execution_count": 8,
   "metadata": {},
   "outputs": [],
   "source": [
    "con1 = monthly_expenses['month'].dt.month == monthly_expenses['month'].dt.month.max()\n",
    "con2 = monthly_expenses['category'].isin(['Server Costs', 'Software Licenses'])\n",
    "con3 = monthly_expenses['item'] != 'Salesforce'\n",
    "last_server_license = monthly_expenses[con1 & con2 & con3]\n",
    "last_total_server_license = last_server_license['amount'].sum()"
   ]
  },
  {
   "cell_type": "code",
   "execution_count": 9,
   "metadata": {},
   "outputs": [],
   "source": [
    "con1 = payroll['month'].dt.month == payroll['month'].dt.month.max()\n",
    "con2 = payroll['department'] == 'Engineering'\n",
    "last_engineer_payroll = payroll[con1 & con2]\n",
    "last_total_engineer_payroll = last_engineer_payroll['paid'].sum()"
   ]
  },
  {
   "cell_type": "code",
   "execution_count": 10,
   "metadata": {},
   "outputs": [
    {
     "data": {
      "text/plain": [
       "20840"
      ]
     },
     "execution_count": 10,
     "metadata": {},
     "output_type": "execute_result"
    }
   ],
   "source": [
    "COGS = last_total_server_license + last_total_engineer_payroll\n",
    "COGS"
   ]
  },
  {
   "cell_type": "code",
   "execution_count": 11,
   "metadata": {},
   "outputs": [
    {
     "data": {
      "text/plain": [
       "295.24"
      ]
     },
     "execution_count": 11,
     "metadata": {},
     "output_type": "execute_result"
    }
   ],
   "source": [
    "customer_lifespan['lifespan'] = (customer_lifespan['churn_date']- customer_lifespan['start_date']).dt.days\n",
    "avg_lifespan = customer_lifespan['lifespan'].mean()\n",
    "avg_lifespan"
   ]
  }
 ],
 "metadata": {
  "kernelspec": {
   "display_name": "Python 3",
   "language": "python",
   "name": "python3"
  },
  "language_info": {
   "codemirror_mode": {
    "name": "ipython",
    "version": 3
   },
   "file_extension": ".py",
   "mimetype": "text/x-python",
   "name": "python",
   "nbconvert_exporter": "python",
   "pygments_lexer": "ipython3",
   "version": "3.11.9"
  }
 },
 "nbformat": 4,
 "nbformat_minor": 2
}
