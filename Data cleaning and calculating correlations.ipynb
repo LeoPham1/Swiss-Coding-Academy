{
 "cells": [
  {
   "cell_type": "code",
   "execution_count": 11,
   "metadata": {},
   "outputs": [],
   "source": [
    "# YOUR CODE\n",
    "import pandas as pd\n",
    "import matplotlib.pyplot as plt\n",
    "import seaborn as sns"
   ]
  },
  {
   "cell_type": "code",
   "execution_count": 12,
   "metadata": {},
   "outputs": [],
   "source": [
    "# YOUR CODE\n",
    "df = pd.read_csv('https://raw.githubusercontent.com/sca-programming-school/datasets/main/sample_business_data.csv')"
   ]
  },
  {
   "cell_type": "code",
   "execution_count": 13,
   "metadata": {},
   "outputs": [
    {
     "data": {
      "text/html": [
       "<div>\n",
       "<style scoped>\n",
       "    .dataframe tbody tr th:only-of-type {\n",
       "        vertical-align: middle;\n",
       "    }\n",
       "\n",
       "    .dataframe tbody tr th {\n",
       "        vertical-align: top;\n",
       "    }\n",
       "\n",
       "    .dataframe thead th {\n",
       "        text-align: right;\n",
       "    }\n",
       "</style>\n",
       "<table border=\"1\" class=\"dataframe\">\n",
       "  <thead>\n",
       "    <tr style=\"text-align: right;\">\n",
       "      <th></th>\n",
       "      <th>CustomerID</th>\n",
       "      <th>Name</th>\n",
       "      <th>DateOfBirth</th>\n",
       "      <th>SignupDate</th>\n",
       "      <th>LastPurchaseDate</th>\n",
       "      <th>PurchaseAmount</th>\n",
       "      <th>Currency</th>\n",
       "      <th>LoyaltyPoints</th>\n",
       "      <th>Region</th>\n",
       "      <th>Email</th>\n",
       "      <th>SubscriptionType</th>\n",
       "    </tr>\n",
       "  </thead>\n",
       "  <tbody>\n",
       "    <tr>\n",
       "      <th>217</th>\n",
       "      <td>218</td>\n",
       "      <td>Ricardo Palmer</td>\n",
       "      <td>04-29-1981</td>\n",
       "      <td>2020-04-25</td>\n",
       "      <td>2021-05-10</td>\n",
       "      <td>749.03</td>\n",
       "      <td>USD</td>\n",
       "      <td>793.0</td>\n",
       "      <td>East</td>\n",
       "      <td>r.palmer@yahoo.com</td>\n",
       "      <td>Basic</td>\n",
       "    </tr>\n",
       "    <tr>\n",
       "      <th>23</th>\n",
       "      <td>24</td>\n",
       "      <td>Melissa Page</td>\n",
       "      <td>06-23-1972</td>\n",
       "      <td>2020-08-16</td>\n",
       "      <td>2021-04-21</td>\n",
       "      <td>484.51</td>\n",
       "      <td>GBP</td>\n",
       "      <td>NaN</td>\n",
       "      <td>East</td>\n",
       "      <td>m.page@gmail.com</td>\n",
       "      <td>Basic</td>\n",
       "    </tr>\n",
       "    <tr>\n",
       "      <th>494</th>\n",
       "      <td>495</td>\n",
       "      <td>Nathaniel Hicks</td>\n",
       "      <td>03-08-1996</td>\n",
       "      <td>2020-09-28</td>\n",
       "      <td>2021-02-10</td>\n",
       "      <td>515.97</td>\n",
       "      <td>EUR</td>\n",
       "      <td>578.0</td>\n",
       "      <td>East</td>\n",
       "      <td>n.hicks@yahoo.com</td>\n",
       "      <td>Premium</td>\n",
       "    </tr>\n",
       "    <tr>\n",
       "      <th>20</th>\n",
       "      <td>21</td>\n",
       "      <td>Christopher Hernandez</td>\n",
       "      <td>11-09-2005</td>\n",
       "      <td>2020-12-03</td>\n",
       "      <td>2021-08-15</td>\n",
       "      <td>615.73</td>\n",
       "      <td>USD</td>\n",
       "      <td>920.0</td>\n",
       "      <td>East</td>\n",
       "      <td>c.hernandez@gmail.com</td>\n",
       "      <td>Standard</td>\n",
       "    </tr>\n",
       "    <tr>\n",
       "      <th>408</th>\n",
       "      <td>409</td>\n",
       "      <td>Andrew Kelly</td>\n",
       "      <td>11-19-1984</td>\n",
       "      <td>2020-07-30</td>\n",
       "      <td>2021-02-04</td>\n",
       "      <td>1178.23</td>\n",
       "      <td>GBP</td>\n",
       "      <td>595.0</td>\n",
       "      <td>East</td>\n",
       "      <td>a.kelly@outlook.com</td>\n",
       "      <td>Standard</td>\n",
       "    </tr>\n",
       "  </tbody>\n",
       "</table>\n",
       "</div>"
      ],
      "text/plain": [
       "     CustomerID                   Name DateOfBirth  SignupDate  \\\n",
       "217         218         Ricardo Palmer  04-29-1981  2020-04-25   \n",
       "23           24           Melissa Page  06-23-1972  2020-08-16   \n",
       "494         495        Nathaniel Hicks  03-08-1996  2020-09-28   \n",
       "20           21  Christopher Hernandez  11-09-2005  2020-12-03   \n",
       "408         409           Andrew Kelly  11-19-1984  2020-07-30   \n",
       "\n",
       "    LastPurchaseDate  PurchaseAmount Currency  LoyaltyPoints Region  \\\n",
       "217       2021-05-10          749.03      USD          793.0   East   \n",
       "23        2021-04-21          484.51      GBP            NaN   East   \n",
       "494       2021-02-10          515.97      EUR          578.0   East   \n",
       "20        2021-08-15          615.73      USD          920.0   East   \n",
       "408       2021-02-04         1178.23      GBP          595.0   East   \n",
       "\n",
       "                     Email SubscriptionType  \n",
       "217     r.palmer@yahoo.com            Basic  \n",
       "23        m.page@gmail.com            Basic  \n",
       "494      n.hicks@yahoo.com          Premium  \n",
       "20   c.hernandez@gmail.com         Standard  \n",
       "408    a.kelly@outlook.com         Standard  "
      ]
     },
     "execution_count": 13,
     "metadata": {},
     "output_type": "execute_result"
    }
   ],
   "source": [
    "# YOUR CODE\n",
    "df.sample(5)"
   ]
  },
  {
   "cell_type": "code",
   "execution_count": 14,
   "metadata": {},
   "outputs": [
    {
     "name": "stdout",
     "output_type": "stream",
     "text": [
      "<class 'pandas.core.frame.DataFrame'>\n",
      "RangeIndex: 500 entries, 0 to 499\n",
      "Data columns (total 11 columns):\n",
      " #   Column            Non-Null Count  Dtype  \n",
      "---  ------            --------------  -----  \n",
      " 0   CustomerID        500 non-null    int64  \n",
      " 1   Name              480 non-null    object \n",
      " 2   DateOfBirth       470 non-null    object \n",
      " 3   SignupDate        500 non-null    object \n",
      " 4   LastPurchaseDate  500 non-null    object \n",
      " 5   PurchaseAmount    450 non-null    float64\n",
      " 6   Currency          500 non-null    object \n",
      " 7   LoyaltyPoints     470 non-null    float64\n",
      " 8   Region            369 non-null    object \n",
      " 9   Email             440 non-null    object \n",
      " 10  SubscriptionType  423 non-null    object \n",
      "dtypes: float64(2), int64(1), object(8)\n",
      "memory usage: 43.1+ KB\n"
     ]
    }
   ],
   "source": [
    "# YOUR CODE\n",
    "df.info()"
   ]
  },
  {
   "cell_type": "code",
   "execution_count": 15,
   "metadata": {},
   "outputs": [
    {
     "name": "stdout",
     "output_type": "stream",
     "text": [
      "<class 'pandas.core.frame.DataFrame'>\n",
      "RangeIndex: 500 entries, 0 to 499\n",
      "Data columns (total 11 columns):\n",
      " #   Column            Non-Null Count  Dtype  \n",
      "---  ------            --------------  -----  \n",
      " 0   CustomerID        500 non-null    Int64  \n",
      " 1   Name              480 non-null    string \n",
      " 2   DateOfBirth       470 non-null    string \n",
      " 3   SignupDate        500 non-null    string \n",
      " 4   LastPurchaseDate  500 non-null    string \n",
      " 5   PurchaseAmount    450 non-null    Float64\n",
      " 6   Currency          500 non-null    string \n",
      " 7   LoyaltyPoints     470 non-null    Int64  \n",
      " 8   Region            369 non-null    string \n",
      " 9   Email             440 non-null    string \n",
      " 10  SubscriptionType  423 non-null    string \n",
      "dtypes: Float64(1), Int64(2), string(8)\n",
      "memory usage: 44.6 KB\n"
     ]
    }
   ],
   "source": [
    "# YOUR CODE\n",
    "df = df.convert_dtypes()\n",
    "# YOUR CODE\n",
    "df.info()"
   ]
  },
  {
   "cell_type": "code",
   "execution_count": 16,
   "metadata": {},
   "outputs": [
    {
     "name": "stdout",
     "output_type": "stream",
     "text": [
      "<class 'pandas.core.frame.DataFrame'>\n",
      "RangeIndex: 500 entries, 0 to 499\n",
      "Data columns (total 11 columns):\n",
      " #   Column            Non-Null Count  Dtype         \n",
      "---  ------            --------------  -----         \n",
      " 0   CustomerID        500 non-null    Int64         \n",
      " 1   Name              480 non-null    string        \n",
      " 2   DateOfBirth       470 non-null    datetime64[ns]\n",
      " 3   SignupDate        500 non-null    datetime64[ns]\n",
      " 4   LastPurchaseDate  500 non-null    datetime64[ns]\n",
      " 5   PurchaseAmount    450 non-null    Float64       \n",
      " 6   Currency          500 non-null    string        \n",
      " 7   LoyaltyPoints     470 non-null    Int64         \n",
      " 8   Region            369 non-null    string        \n",
      " 9   Email             440 non-null    string        \n",
      " 10  SubscriptionType  423 non-null    string        \n",
      "dtypes: Float64(1), Int64(2), datetime64[ns](3), string(5)\n",
      "memory usage: 44.6 KB\n"
     ]
    }
   ],
   "source": [
    "# YOUR CODE\n",
    "df['SignupDate'] = pd.to_datetime(df['SignupDate'])\n",
    "df['LastPurchaseDate'] = pd.to_datetime(df['LastPurchaseDate'])\n",
    "df['DateOfBirth'] = pd.to_datetime(df['DateOfBirth'], format='%m-%d-%Y')\n",
    "# YOUR CODE\n",
    "df.info()"
   ]
  },
  {
   "cell_type": "code",
   "execution_count": 17,
   "metadata": {},
   "outputs": [
    {
     "data": {
      "text/plain": [
       "<StringArray>\n",
       "['GBP', 'USD', 'EUR']\n",
       "Length: 3, dtype: string"
      ]
     },
     "execution_count": 17,
     "metadata": {},
     "output_type": "execute_result"
    }
   ],
   "source": [
    "df['Currency'].unique()"
   ]
  },
  {
   "cell_type": "code",
   "execution_count": 18,
   "metadata": {},
   "outputs": [
    {
     "name": "stderr",
     "output_type": "stream",
     "text": [
      "C:\\Users\\Admin\\AppData\\Local\\Temp\\ipykernel_32188\\2640262555.py:4: FutureWarning: ChainedAssignmentError: behaviour will change in pandas 3.0!\n",
      "You are setting values through chained assignment. Currently this works in certain cases, but when using Copy-on-Write (which will become the default behaviour in pandas 3.0) this will never work to update the original DataFrame or Series, because the intermediate object on which we are setting values will behave as a copy.\n",
      "A typical example is when you are setting values in a column of a DataFrame, like:\n",
      "\n",
      "df[\"col\"][row_indexer] = value\n",
      "\n",
      "Use `df.loc[row_indexer, \"col\"] = values` instead, to perform the assignment in a single step and ensure this keeps updating the original `df`.\n",
      "\n",
      "See the caveats in the documentation: https://pandas.pydata.org/pandas-docs/stable/user_guide/indexing.html#returning-a-view-versus-a-copy\n",
      "\n",
      "  df['PurchaseAmount'][df['Currency'] == 'GBD'] = df['PurchaseAmount'] * GBDtoUSD\n",
      "C:\\Users\\Admin\\AppData\\Local\\Temp\\ipykernel_32188\\2640262555.py:5: FutureWarning: ChainedAssignmentError: behaviour will change in pandas 3.0!\n",
      "You are setting values through chained assignment. Currently this works in certain cases, but when using Copy-on-Write (which will become the default behaviour in pandas 3.0) this will never work to update the original DataFrame or Series, because the intermediate object on which we are setting values will behave as a copy.\n",
      "A typical example is when you are setting values in a column of a DataFrame, like:\n",
      "\n",
      "df[\"col\"][row_indexer] = value\n",
      "\n",
      "Use `df.loc[row_indexer, \"col\"] = values` instead, to perform the assignment in a single step and ensure this keeps updating the original `df`.\n",
      "\n",
      "See the caveats in the documentation: https://pandas.pydata.org/pandas-docs/stable/user_guide/indexing.html#returning-a-view-versus-a-copy\n",
      "\n",
      "  df['PurchaseAmount'][df['Currency'] == 'EUR'] = df['PurchaseAmount'] * EURtoUSD\n"
     ]
    },
    {
     "data": {
      "text/html": [
       "<div>\n",
       "<style scoped>\n",
       "    .dataframe tbody tr th:only-of-type {\n",
       "        vertical-align: middle;\n",
       "    }\n",
       "\n",
       "    .dataframe tbody tr th {\n",
       "        vertical-align: top;\n",
       "    }\n",
       "\n",
       "    .dataframe thead th {\n",
       "        text-align: right;\n",
       "    }\n",
       "</style>\n",
       "<table border=\"1\" class=\"dataframe\">\n",
       "  <thead>\n",
       "    <tr style=\"text-align: right;\">\n",
       "      <th></th>\n",
       "      <th>CustomerID</th>\n",
       "      <th>Name</th>\n",
       "      <th>DateOfBirth</th>\n",
       "      <th>SignupDate</th>\n",
       "      <th>LastPurchaseDate</th>\n",
       "      <th>PurchaseAmount</th>\n",
       "      <th>LoyaltyPoints</th>\n",
       "      <th>Region</th>\n",
       "      <th>Email</th>\n",
       "      <th>SubscriptionType</th>\n",
       "    </tr>\n",
       "  </thead>\n",
       "  <tbody>\n",
       "    <tr>\n",
       "      <th>56</th>\n",
       "      <td>57</td>\n",
       "      <td>Cynthia Wagner</td>\n",
       "      <td>2006-02-06</td>\n",
       "      <td>2020-08-13</td>\n",
       "      <td>2021-07-14</td>\n",
       "      <td>115.9596</td>\n",
       "      <td>475</td>\n",
       "      <td>West</td>\n",
       "      <td>c.wagner@gmail.com</td>\n",
       "      <td>Basic</td>\n",
       "    </tr>\n",
       "    <tr>\n",
       "      <th>205</th>\n",
       "      <td>206</td>\n",
       "      <td>Victoria Mccormick</td>\n",
       "      <td>2018-05-24</td>\n",
       "      <td>2020-09-28</td>\n",
       "      <td>2021-11-03</td>\n",
       "      <td>22.7016</td>\n",
       "      <td>644</td>\n",
       "      <td>&lt;NA&gt;</td>\n",
       "      <td>v.mccormick@yahoo.com</td>\n",
       "      <td>Standard</td>\n",
       "    </tr>\n",
       "    <tr>\n",
       "      <th>267</th>\n",
       "      <td>268</td>\n",
       "      <td>Eric Sawyer</td>\n",
       "      <td>1995-01-09</td>\n",
       "      <td>2020-07-17</td>\n",
       "      <td>2021-10-04</td>\n",
       "      <td>838.0908</td>\n",
       "      <td>738</td>\n",
       "      <td>South</td>\n",
       "      <td>e.sawyer@outlook.com</td>\n",
       "      <td>Premium</td>\n",
       "    </tr>\n",
       "    <tr>\n",
       "      <th>367</th>\n",
       "      <td>368</td>\n",
       "      <td>Brandon Rogers</td>\n",
       "      <td>2016-11-18</td>\n",
       "      <td>2020-02-01</td>\n",
       "      <td>2021-03-18</td>\n",
       "      <td>1178.19</td>\n",
       "      <td>391</td>\n",
       "      <td>West</td>\n",
       "      <td>b.rogers@outlook.com</td>\n",
       "      <td>&lt;NA&gt;</td>\n",
       "    </tr>\n",
       "    <tr>\n",
       "      <th>77</th>\n",
       "      <td>78</td>\n",
       "      <td>Nicholas Bernard</td>\n",
       "      <td>2012-06-14</td>\n",
       "      <td>2020-07-13</td>\n",
       "      <td>2021-11-24</td>\n",
       "      <td>98.9604</td>\n",
       "      <td>50</td>\n",
       "      <td>North</td>\n",
       "      <td>&lt;NA&gt;</td>\n",
       "      <td>Basic</td>\n",
       "    </tr>\n",
       "  </tbody>\n",
       "</table>\n",
       "</div>"
      ],
      "text/plain": [
       "     CustomerID                Name DateOfBirth SignupDate LastPurchaseDate  \\\n",
       "56           57      Cynthia Wagner  2006-02-06 2020-08-13       2021-07-14   \n",
       "205         206  Victoria Mccormick  2018-05-24 2020-09-28       2021-11-03   \n",
       "267         268         Eric Sawyer  1995-01-09 2020-07-17       2021-10-04   \n",
       "367         368      Brandon Rogers  2016-11-18 2020-02-01       2021-03-18   \n",
       "77           78    Nicholas Bernard  2012-06-14 2020-07-13       2021-11-24   \n",
       "\n",
       "     PurchaseAmount  LoyaltyPoints Region                  Email  \\\n",
       "56         115.9596            475   West     c.wagner@gmail.com   \n",
       "205         22.7016            644   <NA>  v.mccormick@yahoo.com   \n",
       "267        838.0908            738  South   e.sawyer@outlook.com   \n",
       "367         1178.19            391   West   b.rogers@outlook.com   \n",
       "77          98.9604             50  North                   <NA>   \n",
       "\n",
       "    SubscriptionType  \n",
       "56             Basic  \n",
       "205         Standard  \n",
       "267          Premium  \n",
       "367             <NA>  \n",
       "77             Basic  "
      ]
     },
     "execution_count": 18,
     "metadata": {},
     "output_type": "execute_result"
    }
   ],
   "source": [
    "# YOUR CODE\n",
    "GBDtoUSD = 1.27\n",
    "EURtoUSD = 1.08\n",
    "df['PurchaseAmount'][df['Currency'] == 'GBD'] = df['PurchaseAmount'] * GBDtoUSD\n",
    "df['PurchaseAmount'][df['Currency'] == 'EUR'] = df['PurchaseAmount'] * EURtoUSD\n",
    "# YOUR CODE\n",
    "del df['Currency']\n",
    "# YOUR CODE\n",
    "df.sample(5)"
   ]
  },
  {
   "cell_type": "code",
   "execution_count": 19,
   "metadata": {},
   "outputs": [
    {
     "name": "stdout",
     "output_type": "stream",
     "text": [
      "<class 'pandas.core.frame.DataFrame'>\n",
      "RangeIndex: 500 entries, 0 to 499\n",
      "Data columns (total 10 columns):\n",
      " #   Column            Non-Null Count  Dtype         \n",
      "---  ------            --------------  -----         \n",
      " 0   CustomerID        500 non-null    Int64         \n",
      " 1   Name              480 non-null    string        \n",
      " 2   DateOfBirth       470 non-null    datetime64[ns]\n",
      " 3   SignupDate        500 non-null    datetime64[ns]\n",
      " 4   LastPurchaseDate  500 non-null    datetime64[ns]\n",
      " 5   PurchaseAmount    450 non-null    Float64       \n",
      " 6   LoyaltyPoints     470 non-null    Int64         \n",
      " 7   Region            369 non-null    string        \n",
      " 8   Email             440 non-null    string        \n",
      " 9   SubscriptionType  423 non-null    string        \n",
      "dtypes: Float64(1), Int64(2), datetime64[ns](3), string(4)\n",
      "memory usage: 40.7 KB\n"
     ]
    }
   ],
   "source": [
    "# YOUR CODE\n",
    "df.info()"
   ]
  },
  {
   "cell_type": "code",
   "execution_count": 21,
   "metadata": {},
   "outputs": [],
   "source": [
    "# YOUR CODE\n",
    "df['Name'] = df['Name'].fillna('Not given')\n",
    "df['DateOfBirth'] = df['DateOfBirth'].fillna('01-01-1000')\n",
    "df['PurchaseAmount'] = df['PurchaseAmount'].fillna(df['PurchaseAmount'].mean())\n",
    "df['LoyaltyPoints'] = df['LoyaltyPoints'].fillna(round(df['LoyaltyPoints'].mean()))\n",
    "df['Region'] = df['Region'].fillna('Not given')\n",
    "df['Email'] = df['Email'].fillna('Not given')\n",
    "df['SubscriptionType'] = df['SubscriptionType'].fillna(df['SubscriptionType'].mode()[0])"
   ]
  },
  {
   "cell_type": "code",
   "execution_count": 22,
   "metadata": {},
   "outputs": [
    {
     "name": "stdout",
     "output_type": "stream",
     "text": [
      "<class 'pandas.core.frame.DataFrame'>\n",
      "RangeIndex: 500 entries, 0 to 499\n",
      "Data columns (total 10 columns):\n",
      " #   Column            Non-Null Count  Dtype         \n",
      "---  ------            --------------  -----         \n",
      " 0   CustomerID        500 non-null    Int64         \n",
      " 1   Name              500 non-null    string        \n",
      " 2   DateOfBirth       500 non-null    object        \n",
      " 3   SignupDate        500 non-null    datetime64[ns]\n",
      " 4   LastPurchaseDate  500 non-null    datetime64[ns]\n",
      " 5   PurchaseAmount    500 non-null    Float64       \n",
      " 6   LoyaltyPoints     500 non-null    Int64         \n",
      " 7   Region            500 non-null    string        \n",
      " 8   Email             500 non-null    string        \n",
      " 9   SubscriptionType  500 non-null    string        \n",
      "dtypes: Float64(1), Int64(2), datetime64[ns](2), object(1), string(4)\n",
      "memory usage: 40.7+ KB\n"
     ]
    }
   ],
   "source": [
    "# YOUR CODE\n",
    "df.info()"
   ]
  },
  {
   "cell_type": "code",
   "execution_count": 23,
   "metadata": {},
   "outputs": [
    {
     "data": {
      "text/plain": [
       "<StringArray>\n",
       "['Not given', 'West', 'South', 'East', 'east', 'North', 'south', 'north',\n",
       " 'west']\n",
       "Length: 9, dtype: string"
      ]
     },
     "execution_count": 23,
     "metadata": {},
     "output_type": "execute_result"
    }
   ],
   "source": [
    "df['Region'].unique()"
   ]
  },
  {
   "cell_type": "code",
   "execution_count": 27,
   "metadata": {},
   "outputs": [],
   "source": [
    "# YOUR CODE\n",
    "df['Region'] = df['Region'].str.lower()\n",
    "df['Region'].unique()\n",
    "df['Region'] = df['Region'].astype('category')\n",
    "# YOUR CODE\n",
    "df.drop_duplicates(keep='first', inplace=True, ignore_index=True)"
   ]
  },
  {
   "cell_type": "code",
   "execution_count": 28,
   "metadata": {},
   "outputs": [
    {
     "name": "stdout",
     "output_type": "stream",
     "text": [
      "<class 'pandas.core.frame.DataFrame'>\n",
      "RangeIndex: 500 entries, 0 to 499\n",
      "Data columns (total 10 columns):\n",
      " #   Column            Non-Null Count  Dtype         \n",
      "---  ------            --------------  -----         \n",
      " 0   CustomerID        500 non-null    Int64         \n",
      " 1   Name              500 non-null    string        \n",
      " 2   DateOfBirth       500 non-null    object        \n",
      " 3   SignupDate        500 non-null    datetime64[ns]\n",
      " 4   LastPurchaseDate  500 non-null    datetime64[ns]\n",
      " 5   PurchaseAmount    500 non-null    Float64       \n",
      " 6   LoyaltyPoints     500 non-null    Int64         \n",
      " 7   Region            500 non-null    category      \n",
      " 8   Email             500 non-null    string        \n",
      " 9   SubscriptionType  500 non-null    string        \n",
      "dtypes: Float64(1), Int64(2), category(1), datetime64[ns](2), object(1), string(3)\n",
      "memory usage: 37.4+ KB\n"
     ]
    }
   ],
   "source": [
    "# YOUR CODE\n",
    "df.info()"
   ]
  },
  {
   "cell_type": "code",
   "execution_count": 29,
   "metadata": {},
   "outputs": [],
   "source": [
    "# YOUR CODE\n",
    "numeric = df.select_dtypes(include='number').columns.tolist()\n",
    "numeric.remove('CustomerID')\n",
    "date = df.select_dtypes(include=['datetime64']).columns.tolist()\n",
    "correlation_columns = numeric + date\n",
    "correlation_matrix = df[correlation_columns].corr()"
   ]
  },
  {
   "cell_type": "code",
   "execution_count": 30,
   "metadata": {},
   "outputs": [
    {
     "data": {
      "text/plain": [
       "<Axes: >"
      ]
     },
     "execution_count": 30,
     "metadata": {},
     "output_type": "execute_result"
    },
    {
     "data": {
      "image/png": "[encoded data removed]",
      "text/plain": [
       "<Figure size 640x480 with 2 Axes>"
      ]
     },
     "metadata": {},
     "output_type": "display_data"
    }
   ],
   "source": [
    "# YOUR CODE\n",
    "sns.heatmap(correlation_matrix, annot=True)"
   ]
  },
  {
   "cell_type": "markdown",
   "metadata": {},
   "source": [
    "Bảng này là một ma trận tương quan, thể hiện mối quan hệ tuyến tính giữa các cặp biến số:\n",
    "\n",
    "PurchaseAmount (Số tiền mua hàng): Tổng số tiền mà khách hàng đã chi tiêu.\n",
    "LoyaltyPoints (Điểm thưởng): Số điểm thưởng mà khách hàng đã tích lũy được.\n",
    "SignupDate (Ngày đăng ký): Ngày khách hàng đăng ký tài khoản.\n",
    "LastPurchaseDate (Ngày mua hàng cuối cùng): Ngày gần nhất mà khách hàng thực hiện giao dịch mua.\n",
    "Phân tích:\n",
    "\n",
    "Mối tương quan yếu: Hầu hết các mối tương quan trong ma trận đều khá yếu (giá trị tuyệt đối gần 0), cho thấy không có mối liên hệ tuyến tính mạnh mẽ giữa các biến số.\n",
    "Không có mối tương quan đáng kể với PurchaseAmount: Cả LoyaltyPoints, SignupDate và LastPurchaseDate đều không có mối tương quan đáng kể với PurchaseAmount. Điều này cho thấy việc khách hàng chi tiêu bao nhiêu không phụ thuộc nhiều vào việc họ có bao nhiêu điểm thưởng, họ đã đăng ký tài khoản bao lâu hay lần cuối họ mua hàng là khi nào.\n",
    "Mối tương quan yếu giữa SignupDate và LastPurchaseDate: Có một mối tương quan dương yếu (0.057) giữa SignupDate và LastPurchaseDate. Điều này cho thấy khách hàng đăng ký tài khoản sớm hơn có xu hướng mua hàng lần cuối sớm hơn một chút so với những người đăng ký muộn hơn. Tuy nhiên, mối tương quan này rất yếu và có thể không có ý nghĩa thống kê."
   ]
  }
 ],
 "metadata": {
  "kernelspec": {
   "display_name": "Python 3",
   "language": "python",
   "name": "python3"
  },
  "language_info": {
   "codemirror_mode": {
    "name": "ipython",
    "version": 3
   },
   "file_extension": ".py",
   "mimetype": "text/x-python",
   "name": "python",
   "nbconvert_exporter": "python",
   "pygments_lexer": "ipython3",
   "version": "3.11.9"
  }
 },
 "nbformat": 4,
 "nbformat_minor": 2
}
