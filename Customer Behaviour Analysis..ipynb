{
 "cells": [
  {
   "cell_type": "code",
   "execution_count": 1,
   "metadata": {},
   "outputs": [],
   "source": [
    "# YOUR CODE\n",
    "import pandas as pd\n",
    "import matplotlib.pyplot as plt\n",
    "import seaborn as sns"
   ]
  },
  {
   "cell_type": "code",
   "execution_count": 2,
   "metadata": {},
   "outputs": [],
   "source": [
    "# YOUR CODE\n",
    "df = pd.read_csv('https://raw.githubusercontent.com/sca-programming-school/datasets/main/customer_data.csv')"
   ]
  },
  {
   "cell_type": "code",
   "execution_count": 3,
   "metadata": {},
   "outputs": [
    {
     "data": {
      "text/html": [
       "<div>\n",
       "<style scoped>\n",
       "    .dataframe tbody tr th:only-of-type {\n",
       "        vertical-align: middle;\n",
       "    }\n",
       "\n",
       "    .dataframe tbody tr th {\n",
       "        vertical-align: top;\n",
       "    }\n",
       "\n",
       "    .dataframe thead th {\n",
       "        text-align: right;\n",
       "    }\n",
       "</style>\n",
       "<table border=\"1\" class=\"dataframe\">\n",
       "  <thead>\n",
       "    <tr style=\"text-align: right;\">\n",
       "      <th></th>\n",
       "      <th>CustomerID</th>\n",
       "      <th>Age</th>\n",
       "      <th>Gender</th>\n",
       "      <th>Income</th>\n",
       "      <th>SpendingScore</th>\n",
       "      <th>SatisfactionRating</th>\n",
       "    </tr>\n",
       "  </thead>\n",
       "  <tbody>\n",
       "    <tr>\n",
       "      <th>0</th>\n",
       "      <td>1</td>\n",
       "      <td>28</td>\n",
       "      <td>Female</td>\n",
       "      <td>48754</td>\n",
       "      <td>100.000000</td>\n",
       "      <td>5.0</td>\n",
       "    </tr>\n",
       "    <tr>\n",
       "      <th>1</th>\n",
       "      <td>2</td>\n",
       "      <td>38</td>\n",
       "      <td>Male</td>\n",
       "      <td>47750</td>\n",
       "      <td>59.833417</td>\n",
       "      <td>5.0</td>\n",
       "    </tr>\n",
       "    <tr>\n",
       "      <th>2</th>\n",
       "      <td>3</td>\n",
       "      <td>37</td>\n",
       "      <td>Female</td>\n",
       "      <td>59467</td>\n",
       "      <td>65.855645</td>\n",
       "      <td>5.0</td>\n",
       "    </tr>\n",
       "    <tr>\n",
       "      <th>3</th>\n",
       "      <td>4</td>\n",
       "      <td>36</td>\n",
       "      <td>Male</td>\n",
       "      <td>46047</td>\n",
       "      <td>100.000000</td>\n",
       "      <td>5.0</td>\n",
       "    </tr>\n",
       "    <tr>\n",
       "      <th>4</th>\n",
       "      <td>5</td>\n",
       "      <td>35</td>\n",
       "      <td>Female</td>\n",
       "      <td>78391</td>\n",
       "      <td>86.398144</td>\n",
       "      <td>5.0</td>\n",
       "    </tr>\n",
       "  </tbody>\n",
       "</table>\n",
       "</div>"
      ],
      "text/plain": [
       "   CustomerID  Age  Gender  Income  SpendingScore  SatisfactionRating\n",
       "0           1   28  Female   48754     100.000000                 5.0\n",
       "1           2   38    Male   47750      59.833417                 5.0\n",
       "2           3   37  Female   59467      65.855645                 5.0\n",
       "3           4   36    Male   46047     100.000000                 5.0\n",
       "4           5   35  Female   78391      86.398144                 5.0"
      ]
     },
     "execution_count": 3,
     "metadata": {},
     "output_type": "execute_result"
    }
   ],
   "source": [
    "# YOUR CODE\n",
    "df.head()"
   ]
  },
  {
   "cell_type": "code",
   "execution_count": 6,
   "metadata": {},
   "outputs": [
    {
     "data": {
      "text/html": [
       "<div>\n",
       "<style scoped>\n",
       "    .dataframe tbody tr th:only-of-type {\n",
       "        vertical-align: middle;\n",
       "    }\n",
       "\n",
       "    .dataframe tbody tr th {\n",
       "        vertical-align: top;\n",
       "    }\n",
       "\n",
       "    .dataframe thead th {\n",
       "        text-align: right;\n",
       "    }\n",
       "</style>\n",
       "<table border=\"1\" class=\"dataframe\">\n",
       "  <thead>\n",
       "    <tr style=\"text-align: right;\">\n",
       "      <th></th>\n",
       "      <th>Age</th>\n",
       "      <th>Income</th>\n",
       "      <th>SpendingScore</th>\n",
       "      <th>SatisfactionRating</th>\n",
       "    </tr>\n",
       "  </thead>\n",
       "  <tbody>\n",
       "    <tr>\n",
       "      <th>Age</th>\n",
       "      <td>1.000000</td>\n",
       "      <td>0.656541</td>\n",
       "      <td>-0.157697</td>\n",
       "      <td>-0.057356</td>\n",
       "    </tr>\n",
       "    <tr>\n",
       "      <th>Income</th>\n",
       "      <td>0.656541</td>\n",
       "      <td>1.000000</td>\n",
       "      <td>-0.084817</td>\n",
       "      <td>-0.018254</td>\n",
       "    </tr>\n",
       "    <tr>\n",
       "      <th>SpendingScore</th>\n",
       "      <td>-0.157697</td>\n",
       "      <td>-0.084817</td>\n",
       "      <td>1.000000</td>\n",
       "      <td>0.551581</td>\n",
       "    </tr>\n",
       "    <tr>\n",
       "      <th>SatisfactionRating</th>\n",
       "      <td>-0.057356</td>\n",
       "      <td>-0.018254</td>\n",
       "      <td>0.551581</td>\n",
       "      <td>1.000000</td>\n",
       "    </tr>\n",
       "  </tbody>\n",
       "</table>\n",
       "</div>"
      ],
      "text/plain": [
       "                         Age    Income  SpendingScore  SatisfactionRating\n",
       "Age                 1.000000  0.656541      -0.157697           -0.057356\n",
       "Income              0.656541  1.000000      -0.084817           -0.018254\n",
       "SpendingScore      -0.157697 -0.084817       1.000000            0.551581\n",
       "SatisfactionRating -0.057356 -0.018254       0.551581            1.000000"
      ]
     },
     "execution_count": 6,
     "metadata": {},
     "output_type": "execute_result"
    }
   ],
   "source": [
    "# YOUR CODE\n",
    "numeric = df.select_dtypes(include='number').columns.tolist()\n",
    "numeric.remove('CustomerID')\n",
    "# YOUR CODE\n",
    "correlation_matrix = df[numeric].corr()\n",
    "# YOUR CODE\n",
    "correlation_matrix"
   ]
  },
  {
   "cell_type": "code",
   "execution_count": 7,
   "metadata": {},
   "outputs": [
    {
     "data": {
      "text/plain": [
       "Text(0.5, 1.0, 'Customer Behavior Correlation Matrix')"
      ]
     },
     "execution_count": 7,
     "metadata": {},
     "output_type": "execute_result"
    },
    {
     "data": {
      "image/png": "[encoded data removed]",
      "text/plain": [
       "<Figure size 640x480 with 2 Axes>"
      ]
     },
     "metadata": {},
     "output_type": "display_data"
    }
   ],
   "source": [
    "# YOUR CODE\n",
    "sns.heatmap(correlation_matrix, annot=True)\n",
    "plt.title('Customer Behavior Correlation Matrix')"
   ]
  },
  {
   "cell_type": "markdown",
   "metadata": {},
   "source": [
    "Mối tương quan chính:\n",
    "\n",
    "Tuổi và Thu nhập: Có mối tương quan dương khá mạnh (0.66). Điều này cho thấy khách hàng lớn tuổi có xu hướng có thu nhập cao hơn.\n",
    "Điểm chi tiêu và Xếp hạng hài lòng: Có mối tương quan dương vừa phải (0.55). Khách hàng chi tiêu nhiều hơn có xu hướng hài lòng hơn.\n",
    "Mối tương quan yếu hoặc không có ý nghĩa:\n",
    "\n",
    "Tuổi và Điểm chi tiêu/Xếp hạng hài lòng: Hầu như không có mối tương quan. Tuổi tác không phải là yếu tố dự báo tốt cho mức chi tiêu hoặc sự hài lòng của khách hàng.\n",
    "Thu nhập và Điểm chi tiêu/Xếp hạng hài lòng: Mối tương quan rất yếu. Mặc dù có thể mong đợi khách hàng có thu nhập cao hơn sẽ chi tiêu nhiều hơn và hài lòng hơn, nhưng dữ liệu không hỗ trợ mạnh mẽ điều này.\n",
    "Đề xuất:\n",
    "\n",
    "Nhắm mục tiêu khách hàng lớn tuổi hơn: Vì họ có xu hướng có thu nhập cao hơn, hãy tập trung vào việc thu hút và giữ chân nhóm khách hàng này bằng các sản phẩm và dịch vụ phù hợp.\n",
    "\n",
    "Tăng điểm chi tiêu: Cải thiện điểm chi tiêu của khách hàng (ví dụ: thông qua chương trình khách hàng thân thiết, khuyến mãi) có thể là một chiến lược hiệu quả để tăng sự hài lòng của khách hàng.\n",
    "\n",
    "Phân tích sâu hơn về điểm chi tiêu: Vì điểm chi tiêu có mối tương quan với sự hài lòng, hãy nghiên cứu kỹ hơn về yếu tố này. Xác định những yếu tố nào ảnh hưởng đến điểm chi tiêu (ví dụ: loại sản phẩm, tần suất mua hàng) và tối ưu hóa chúng.\n",
    "\n",
    "Không dựa vào tuổi tác và thu nhập: Đừng chỉ dựa vào tuổi tác và thu nhập để phân khúc khách hàng hoặc dự đoán hành vi của họ. Các yếu tố khác có thể đóng vai trò quan trọng hơn.\n",
    "\n",
    "Thu thập thêm dữ liệu: Để có được bức tranh đầy đủ hơn về hành vi khách hàng, hãy xem xét việc thu thập thêm dữ liệu về các yếu tố khác, chẳng hạn như nhân khẩu học, sở thích và lịch sử mua hàng."
   ]
  }
 ],
 "metadata": {
  "kernelspec": {
   "display_name": "Python 3",
   "language": "python",
   "name": "python3"
  },
  "language_info": {
   "codemirror_mode": {
    "name": "ipython",
    "version": 3
   },
   "file_extension": ".py",
   "mimetype": "text/x-python",
   "name": "python",
   "nbconvert_exporter": "python",
   "pygments_lexer": "ipython3",
   "version": "3.11.9"
  }
 },
 "nbformat": 4,
 "nbformat_minor": 2
}
